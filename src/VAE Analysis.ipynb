{
 "cells": [
  {
   "cell_type": "code",
   "execution_count": 175,
   "metadata": {},
   "outputs": [],
   "source": [
    "import json\n",
    "import torch\n",
    "import numpy as np\n",
    "import torch.nn as nn\n",
    "from models import CVAE\n",
    "from sklearn import metrics\n",
    "import torch.optim as optim\n",
    "import torch.nn.functional as F\n",
    "from __dataset import spcamDataset\n",
    "from __dataset import SubsetSampler\n",
    "import seaborn as sns\n",
    "from torch.utils.data import DataLoader"
   ]
  },
  {
   "cell_type": "code",
   "execution_count": 6,
   "metadata": {},
   "outputs": [],
   "source": [
    "params = {\n",
    "        'data_fn' : 'data/VerySmallDataset/000_train.nc',\n",
    "        'input_vars' : ['TBP', 'QBP', 'PS', 'SOLIN', 'SHFLX', 'LHFLX'],\n",
    "        'output_vars' : ['PRECT'],\n",
    "        'norm_fn':'data/VerySmallDataset/000_norm.nc',\n",
    "        'input_transform':(\"min\", \"maxrs\"),\n",
    "        'batch_size': 1024,\n",
    "        'shuffle' : True, \n",
    "        'var_cut_off': None,\n",
    "        'model_type':\"regression\", ## dataset related\n",
    "\n",
    "        'inputDim' : 64,\n",
    "        'hiddenDim' : [32,32], ## Symmetrical\n",
    "        'outputDim' : 16, #Hidden state #VAE related\n",
    "\n",
    "\n",
    "        'epochs' : 30,\n",
    "        'expNumber' : \"VAE_Exp01\", # to be changed\n",
    "        'device' : 'cuda',\n",
    "        'valid_fn' : 'data/VerySmallDataset/000_valid.nc' #Misc\n",
    "    }\n",
    "\n",
    "model = CVAE(params)\n",
    "optimizer = optim.Adam(model.parameters(),lr=0.00001,weight_decay=0.001)"
   ]
  },
  {
   "cell_type": "code",
   "execution_count": 5,
   "metadata": {},
   "outputs": [
    {
     "data": {
      "text/plain": [
       "CVAE(\n",
       "  (encoder): Encoder(\n",
       "    (model): Sequential(\n",
       "      (hidden_0): Linear(in_features=65, out_features=32, bias=True)\n",
       "      (hidden_bn_0): BatchNorm1d(32, eps=1e-05, momentum=0.1, affine=True, track_running_stats=True)\n",
       "      (hidden_activation_0): RReLU(lower=0.125, upper=0.3333333333333333)\n",
       "      (hidden_1): Linear(in_features=32, out_features=32, bias=True)\n",
       "      (hidden_bn_1): BatchNorm1d(32, eps=1e-05, momentum=0.1, affine=True, track_running_stats=True)\n",
       "      (hidden_activation_1): RReLU(lower=0.125, upper=0.3333333333333333)\n",
       "    )\n",
       "    (mu): Linear(in_features=32, out_features=16, bias=True)\n",
       "    (var): Linear(in_features=32, out_features=16, bias=True)\n",
       "  )\n",
       "  (decoder): Decoder(\n",
       "    (model): Sequential(\n",
       "      (hidden_0): Linear(in_features=80, out_features=32, bias=True)\n",
       "      (hidden_bn_0): BatchNorm1d(32, eps=1e-05, momentum=0.1, affine=True, track_running_stats=True)\n",
       "      (hidden_activation_0): RReLU(lower=0.125, upper=0.3333333333333333)\n",
       "      (hidden_1): Linear(in_features=32, out_features=32, bias=True)\n",
       "      (hidden_bn_1): BatchNorm1d(32, eps=1e-05, momentum=0.1, affine=True, track_running_stats=True)\n",
       "      (hidden_activation_1): RReLU(lower=0.125, upper=0.3333333333333333)\n",
       "      (mu): Linear(in_features=32, out_features=1, bias=True)\n",
       "    )\n",
       "  )\n",
       ")"
      ]
     },
     "execution_count": 5,
     "metadata": {},
     "output_type": "execute_result"
    }
   ],
   "source": [
    "model"
   ]
  },
  {
   "cell_type": "code",
   "execution_count": 58,
   "metadata": {},
   "outputs": [],
   "source": [
    "### Load model\n",
    "checkpoint = torch.load('./runs/VAE_model_DNN_classifier_exp_VAE_Exp04.pt')"
   ]
  },
  {
   "cell_type": "code",
   "execution_count": 59,
   "metadata": {},
   "outputs": [
    {
     "data": {
      "text/plain": [
       "CVAE(\n",
       "  (encoder): Encoder(\n",
       "    (model): Sequential(\n",
       "      (hidden_0): Linear(in_features=65, out_features=32, bias=True)\n",
       "      (hidden_bn_0): BatchNorm1d(32, eps=1e-05, momentum=0.1, affine=True, track_running_stats=True)\n",
       "      (hidden_activation_0): RReLU(lower=0.125, upper=0.3333333333333333)\n",
       "      (hidden_1): Linear(in_features=32, out_features=32, bias=True)\n",
       "      (hidden_bn_1): BatchNorm1d(32, eps=1e-05, momentum=0.1, affine=True, track_running_stats=True)\n",
       "      (hidden_activation_1): RReLU(lower=0.125, upper=0.3333333333333333)\n",
       "    )\n",
       "    (mu): Linear(in_features=32, out_features=16, bias=True)\n",
       "    (var): Linear(in_features=32, out_features=16, bias=True)\n",
       "  )\n",
       "  (decoder): Decoder(\n",
       "    (model): Sequential(\n",
       "      (hidden_0): Linear(in_features=80, out_features=32, bias=True)\n",
       "      (hidden_bn_0): BatchNorm1d(32, eps=1e-05, momentum=0.1, affine=True, track_running_stats=True)\n",
       "      (hidden_activation_0): RReLU(lower=0.125, upper=0.3333333333333333)\n",
       "      (hidden_1): Linear(in_features=32, out_features=32, bias=True)\n",
       "      (hidden_bn_1): BatchNorm1d(32, eps=1e-05, momentum=0.1, affine=True, track_running_stats=True)\n",
       "      (hidden_activation_1): RReLU(lower=0.125, upper=0.3333333333333333)\n",
       "      (mu): Linear(in_features=32, out_features=1, bias=True)\n",
       "    )\n",
       "  )\n",
       ")"
      ]
     },
     "execution_count": 59,
     "metadata": {},
     "output_type": "execute_result"
    }
   ],
   "source": [
    "model.load_state_dict(checkpoint['model_state_dict'])\n",
    "optimizer.load_state_dict(checkpoint['optimizer_state_dict'])\n",
    "epoch = checkpoint['epoch']\n",
    "loss = checkpoint['loss']\n",
    "\n",
    "model.cuda()\n",
    "model.eval()\n"
   ]
  },
  {
   "cell_type": "code",
   "execution_count": 194,
   "metadata": {},
   "outputs": [],
   "source": [
    "train_dataset = spcamDataset(params, phase = \"train\")\n",
    "train_loader = DataLoader(train_dataset, sampler = SubsetSampler(train_dataset.indices))"
   ]
  },
  {
   "cell_type": "code",
   "execution_count": 257,
   "metadata": {},
   "outputs": [],
   "source": [
    "for batch_idx, (data, target) in enumerate(train_loader):\n",
    "\n",
    "    if max(target).detach().cpu().numpy()[0] > .1:\n",
    "        break"
   ]
  },
  {
   "cell_type": "code",
   "execution_count": 258,
   "metadata": {},
   "outputs": [],
   "source": [
    "target = target.squeeze(0).type(torch.float32).to(params['device'])\n",
    "data =  data.squeeze(0).type(torch.float32).to(params['device'])"
   ]
  },
  {
   "cell_type": "code",
   "execution_count": 259,
   "metadata": {},
   "outputs": [
    {
     "data": {
      "text/plain": [
       "tensor([0.2243], device='cuda:0')"
      ]
     },
     "execution_count": 259,
     "metadata": {},
     "output_type": "execute_result"
    }
   ],
   "source": [
    "max(target)"
   ]
  },
  {
   "cell_type": "code",
   "execution_count": 260,
   "metadata": {},
   "outputs": [],
   "source": [
    "z = torch.randn(1, 16).cuda()\n",
    "z = torch.cat((z, data[1000].unsqueeze(0)), dim=1).cuda()"
   ]
  },
  {
   "cell_type": "code",
   "execution_count": 261,
   "metadata": {},
   "outputs": [
    {
     "data": {
      "text/plain": [
       "tensor([[0.0033]], device='cuda:0', grad_fn=<SigmoidBackward>)"
      ]
     },
     "execution_count": 261,
     "metadata": {},
     "output_type": "execute_result"
    }
   ],
   "source": [
    "model.decoder(z)"
   ]
  },
  {
   "cell_type": "code",
   "execution_count": 253,
   "metadata": {},
   "outputs": [],
   "source": [
    "def get_dis(data,target,idx):\n",
    "    samples = []\n",
    "    tar = target.cpu().numpy()\n",
    "    \n",
    "    for x in range(1000):\n",
    "        z = torch.randn(1, 16).cuda()\n",
    "        dp = torch.cat((z, data[idx].unsqueeze(0)), dim=1).cuda().data\n",
    "        \n",
    "        samples.extend(model.decoder(dp).detach().cpu().numpy())\n",
    "        \n",
    "    return  np.array(samples).flatten(),tar[idx][0]\n",
    "    "
   ]
  },
  {
   "cell_type": "code",
   "execution_count": null,
   "metadata": {},
   "outputs": [],
   "source": []
  },
  {
   "cell_type": "code",
   "execution_count": 203,
   "metadata": {},
   "outputs": [
    {
     "data": {
      "text/plain": [
       "Text(0.5, 1.0, 'Target 0')"
      ]
     },
     "execution_count": 203,
     "metadata": {},
     "output_type": "execute_result"
    },
    {
     "data": {
      "image/png": "[encoded data removed]",
      "text/plain": [
       "<Figure size 432x288 with 1 Axes>"
      ]
     },
     "metadata": {
      "needs_background": "light"
     },
     "output_type": "display_data"
    }
   ],
   "source": [
    "pts, tg = get_dis(data, target, 1)\n",
    "ax = sns.distplot(pts)\n",
    "ax.set_title('Target {}'.format(int(tg)))"
   ]
  },
  {
   "cell_type": "code",
   "execution_count": 273,
   "metadata": {},
   "outputs": [
    {
     "data": {
      "text/plain": [
       "Text(0.5, 1.0, 'Target 0.2242799997329712')"
      ]
     },
     "execution_count": 273,
     "metadata": {},
     "output_type": "execute_result"
    },
    {
     "data": {
      "image/png": "[encoded data removed]",
      "text/plain": [
       "<Figure size 432x288 with 1 Axes>"
      ]
     },
     "metadata": {
      "needs_background": "light"
     },
     "output_type": "display_data"
    }
   ],
   "source": [
    "pts, tg = get_dis(data, target, 306)\n",
    "ax = sns.distplot(pts)\n",
    "ax.set_title('Target {}'.format(np.round(tg,5)))"
   ]
  },
  {
   "cell_type": "code",
   "execution_count": 272,
   "metadata": {},
   "outputs": [
    {
     "data": {
      "text/plain": [
       "(array([306], dtype=int64),)"
      ]
     },
     "execution_count": 272,
     "metadata": {},
     "output_type": "execute_result"
    }
   ],
   "source": [
    "np.where(target.cpu().numpy().flatten()==0.22427596)"
   ]
  },
  {
   "cell_type": "code",
   "execution_count": 262,
   "metadata": {},
   "outputs": [
    {
     "data": {
      "text/plain": [
       "tensor([0.2243], device='cuda:0')"
      ]
     },
     "execution_count": 262,
     "metadata": {},
     "output_type": "execute_result"
    }
   ],
   "source": [
    "max(target)"
   ]
  },
  {
   "cell_type": "code",
   "execution_count": 271,
   "metadata": {},
   "outputs": [
    {
     "data": {
      "text/plain": [
       "0.22427596"
      ]
     },
     "execution_count": 271,
     "metadata": {},
     "output_type": "execute_result"
    }
   ],
   "source": [
    "target.cpu().numpy().flatten()"
   ]
  },
  {
   "cell_type": "code",
   "execution_count": null,
   "metadata": {},
   "outputs": [],
   "source": []
  }
 ],
 "metadata": {
  "kernelspec": {
   "display_name": "Python 3",
   "language": "python",
   "name": "python3"
  },
  "language_info": {
   "codemirror_mode": {
    "name": "ipython",
    "version": 3
   },
   "file_extension": ".py",
   "mimetype": "text/x-python",
   "name": "python",
   "nbconvert_exporter": "python",
   "pygments_lexer": "ipython3",
   "version": "3.7.3"
  }
 },
 "nbformat": 4,
 "nbformat_minor": 2
}
